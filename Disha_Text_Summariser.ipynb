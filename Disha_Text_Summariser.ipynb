{
 "cells": [
  {
   "cell_type": "markdown",
   "id": "9d8743bc-b714-420d-96e0-d90a01a08fa7",
   "metadata": {},
   "source": [
    "# TEXT SUMMARISER\n",
    "\n",
    "# The Problem\n",
    "To create a program which allows user to input text they would like to have summarized.\n",
    "The program should then take the input and output the summarized version of the input. The output will depend on the parameters given by the user i.e., if they want the summary to a certain lenght of sentences. \n",
    "\n",
    "# Step 2. Describe the input and output \n",
    "**Input**\n",
    "* String-Input: Ask user to input text extract which needs summarization\n",
    "* Int-Input: Ask user to input max sentence length of summary\n",
    "* Yes/No: Yes if user would like to continue again to resummarize, or No if they'd like to exit the program\n",
    "\n",
    "**Output** \n",
    "* Use pypi software, specifically bert extractive summarizer (https://pypi.org/project/bert-extractive-summarizer/)\n",
    "\n",
    "# Step 3. Work problem by hand\n",
    "\n"
   ]
  },
  {
   "cell_type": "code",
   "execution_count": null,
   "id": "7852b970-ac7a-465a-ac76-52c4518644cf",
   "metadata": {},
   "outputs": [],
   "source": []
  }
 ],
 "metadata": {
  "kernelspec": {
   "display_name": "Python 3 (ipykernel)",
   "language": "python",
   "name": "python3"
  },
  "language_info": {
   "codemirror_mode": {
    "name": "ipython",
    "version": 3
   },
   "file_extension": ".py",
   "mimetype": "text/x-python",
   "name": "python",
   "nbconvert_exporter": "python",
   "pygments_lexer": "ipython3",
   "version": "3.7.12"
  }
 },
 "nbformat": 4,
 "nbformat_minor": 5
}
