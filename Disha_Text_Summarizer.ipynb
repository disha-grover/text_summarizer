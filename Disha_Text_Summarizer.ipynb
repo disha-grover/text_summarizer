{
  "nbformat": 4,
  "nbformat_minor": 0,
  "metadata": {
    "colab": {
      "name": "Disha_Text_Summarizer.ipynb",
      "provenance": [],
      "authorship_tag": "ABX9TyOQl64JsAkxbR/jTnOEi4E8",
      "include_colab_link": true
    },
    "kernelspec": {
      "name": "python3",
      "display_name": "Python 3"
    },
    "language_info": {
      "name": "python"
    }
  },
  "cells": [
    {
      "cell_type": "markdown",
      "metadata": {
        "id": "view-in-github",
        "colab_type": "text"
      },
      "source": [
        "<a href=\"https://colab.research.google.com/github/disha-grover/text_summarizer/blob/main/Disha_Text_Summarizer.ipynb\" target=\"_parent\"><img src=\"https://colab.research.google.com/assets/colab-badge.svg\" alt=\"Open In Colab\"/></a>"
      ]
    },
    {
      "cell_type": "markdown",
      "source": [
        "# TEXT SUMMARISER By Disha Grover\n",
        "\n",
        "# The Problem\n",
        "To create a program which allows user to input text they would like to have summarized.\n",
        "The program should then take the input and output the summarized version of the input. The output will depend on the parameters given by the user i.e., if they want the summary to a certain lenght of sentences. \n"
      ],
      "metadata": {
        "id": "fAX1I8tGrgSF"
      }
    },
    {
      "cell_type": "markdown",
      "source": [
        "# Set Up Requirments "
      ],
      "metadata": {
        "id": "AfjgTPTSs2rn"
      }
    },
    {
      "cell_type": "code",
      "source": [
        "import sys\n",
        "IN_COLAB = 'google.colab' in sys.modules\n",
        "if IN_COLAB:\n",
        "  # Workaround due to how Colab sets up a VM instance\n",
        "  # Copy repository to VM instance this notebook is running\n",
        "  GIT_PATH = \"https://github.com/disha-grover/text_summarizer\"\n",
        "  # Must clone into an empty directory\n",
        "  !mkdir ./temp\n",
        "  !git clone \"{GIT_PATH}\" ./temp\n",
        "  !mv ./temp/* .\n",
        "  !rm -rf ./temp"
      ],
      "metadata": {
        "id": "Rn4vJ-iIr5O4"
      },
      "execution_count": null,
      "outputs": []
    },
    {
      "cell_type": "code",
      "execution_count": null,
      "metadata": {
        "id": "rCeWhHn_f00N"
      },
      "outputs": [],
      "source": [
        "!pip install bert-extractive-summarizer"
      ]
    },
    {
      "cell_type": "markdown",
      "source": [
        "# Main Program"
      ],
      "metadata": {
        "id": "zPbuDs9wswIF"
      }
    },
    {
      "cell_type": "code",
      "source": [
        "from summarizer import Summarizer \n",
        "\n",
        "print(\"Welcome to text summarizer!\")\n",
        "\n",
        "while True:\n",
        "  text = input(\"What would you like to have summarized? Please paste the extract below. \")\n",
        "    \n",
        "  maxsent = int(input(\"What is the maximum length of sentences you'd like the summarized text to be? \"))\n",
        "    \n",
        "  summarise = Summarizer()\n",
        "    \n",
        "  result = summarise(text, num_sentences = maxsent)\n",
        "    \n",
        "  print(result)\n",
        "\n",
        "  if input(\"Would you like to continue? Please type Y or N only. \") == \"N\" :\n",
        "    break\n",
        "    print(\"Thank you for using our text summariser! \")\n",
        "\n",
        "  else:\n",
        "    input(\"Would you like to continue? Please type Y or N. \") == \"Y\"\n",
        "    continue\n",
        "\n"
      ],
      "metadata": {
        "id": "QqHobXdhf1st"
      },
      "execution_count": null,
      "outputs": []
    },
    {
      "cell_type": "markdown",
      "source": [
        ""
      ],
      "metadata": {
        "id": "-tVzywqirdW3"
      }
    }
  ]
}